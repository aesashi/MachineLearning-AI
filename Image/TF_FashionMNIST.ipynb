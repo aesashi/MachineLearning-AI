{
  "nbformat": 4,
  "nbformat_minor": 0,
  "metadata": {
    "colab": {
      "provenance": []
    },
    "kernelspec": {
      "name": "python3",
      "display_name": "Python 3"
    },
    "language_info": {
      "name": "python"
    }
  },
  "cells": [
    {
      "cell_type": "markdown",
      "source": [
        "Image Classification using FashionMNIST datasaet"
      ],
      "metadata": {
        "id": "oLk-RfA-T1Xe"
      }
    },
    {
      "cell_type": "code",
      "execution_count": 1,
      "metadata": {
        "colab": {
          "base_uri": "https://localhost:8080/"
        },
        "id": "qSRDmen6SonT",
        "outputId": "3b4c4ec8-b8ad-42e6-f231-763219353094"
      },
      "outputs": [
        {
          "output_type": "stream",
          "name": "stdout",
          "text": [
            "2.11.0\n"
          ]
        }
      ],
      "source": [
        "import tensorflow as tf\n",
        "print(tf.__version__)"
      ]
    },
    {
      "cell_type": "code",
      "source": [
        "import numpy as np\n",
        "import matplotlib.pyplot as plt\n",
        "from tensorflow.keras.models import Model\n",
        "from tensorflow.keras.layers import Input, Conv2D, Dense, Flatten, Dropout\n"
      ],
      "metadata": {
        "id": "S-m8SpHJS1QI"
      },
      "execution_count": 7,
      "outputs": []
    },
    {
      "cell_type": "markdown",
      "source": [
        "Load Dataset"
      ],
      "metadata": {
        "id": "ABNLAebNT7sn"
      }
    },
    {
      "cell_type": "code",
      "source": [
        "fashion_mnist = tf.keras.datasets.fashion_mnist\n",
        "\n",
        "(x_train, y_train), (x_test, y_test) = fashion_mnist.load_data()\n",
        "#For any given pixel of the image, the value assigned to that pixel can fall between 0 and 255. \n",
        "#Which brings us to our next line of code:\n",
        "x_train, x_test = x_train /255.0, x_test /255.0\n",
        "print(\"x_train shape\", x_train.shape)"
      ],
      "metadata": {
        "colab": {
          "base_uri": "https://localhost:8080/"
        },
        "id": "HxqndJosTVmd",
        "outputId": "baf8f5fd-015a-47c7-fe70-05983d454f0e"
      },
      "execution_count": 10,
      "outputs": [
        {
          "output_type": "stream",
          "name": "stdout",
          "text": [
            "Downloading data from https://storage.googleapis.com/tensorflow/tf-keras-datasets/train-labels-idx1-ubyte.gz\n",
            "29515/29515 [==============================] - 0s 0us/step\n",
            "Downloading data from https://storage.googleapis.com/tensorflow/tf-keras-datasets/train-images-idx3-ubyte.gz\n",
            "26421880/26421880 [==============================] - 0s 0us/step\n",
            "Downloading data from https://storage.googleapis.com/tensorflow/tf-keras-datasets/t10k-labels-idx1-ubyte.gz\n",
            "5148/5148 [==============================] - 0s 0us/step\n",
            "Downloading data from https://storage.googleapis.com/tensorflow/tf-keras-datasets/t10k-images-idx3-ubyte.gz\n",
            "4422102/4422102 [==============================] - 0s 0us/step\n",
            "x_train shape (60000, 28, 28)\n"
          ]
        }
      ]
    },
    {
      "cell_type": "code",
      "source": [
        "#the data is only 2D!\n",
        "#convolution expects height x width x clor\n",
        "x_train = np.expand_dims(x_train, -1)\n",
        "x_test = np.expand_dims(x_test, -1)\n",
        "print(x_train.shape)"
      ],
      "metadata": {
        "colab": {
          "base_uri": "https://localhost:8080/"
        },
        "id": "RmmN4DQla7q6",
        "outputId": "90342bf4-b8bd-4c52-a061-2e9530dac922"
      },
      "execution_count": 16,
      "outputs": [
        {
          "output_type": "stream",
          "name": "stdout",
          "text": [
            "(60000, 28, 28, 1)\n"
          ]
        }
      ]
    },
    {
      "cell_type": "code",
      "source": [
        "#number of classes\n",
        "K = len(set(y_train))\n",
        "print(\"number of classes: \", K)"
      ],
      "metadata": {
        "colab": {
          "base_uri": "https://localhost:8080/"
        },
        "id": "NqM23ZDBUlOD",
        "outputId": "6bb31d34-e295-48df-d6fe-be466ad2090a"
      },
      "execution_count": 17,
      "outputs": [
        {
          "output_type": "stream",
          "name": "stdout",
          "text": [
            "number of classes:  10\n"
          ]
        }
      ]
    },
    {
      "cell_type": "markdown",
      "source": [
        "Build the CNN"
      ],
      "metadata": {
        "id": "mxlB2SGxYLR_"
      }
    },
    {
      "cell_type": "code",
      "source": [
        "#Build the model using the functional API\n",
        "i = Input(shape=x_train[0].shape)\n",
        "x = Conv2D(32, (3, 3), strides=2, activation='relu')(i)\n",
        "x = Conv2D(64, (3, 3), strides=2, activation='relu')(x)\n",
        "x = Conv2D(128, (3, 3), strides=2, activation='relu')(x)\n",
        "x = Flatten()(x)\n",
        "x = Dropout(0.2)(x)\n",
        "x = Dense(512, activation='relu')(x)\n",
        "x = Dropout(0.2)(x)\n",
        "x = Dense(K, activation='softmax')(x)\n",
        "\n",
        "model = Model(i, x)"
      ],
      "metadata": {
        "id": "PdGdtxFkXKcP"
      },
      "execution_count": 18,
      "outputs": []
    },
    {
      "cell_type": "code",
      "source": [
        "#Complete and fit \n",
        "#Note: make sure you are using hte GPU for this!\n",
        "model.compile(optimizer='adam',  loss='sparse_categorical_crossentropy', metrics=['accuracy'])\n",
        "r = model.fit(x_train, y_train, validation_data=(x_test, y_test), epochs=15)\n"
      ],
      "metadata": {
        "colab": {
          "base_uri": "https://localhost:8080/"
        },
        "id": "CQ_spWCfZirc",
        "outputId": "21f24984-dfc8-4dc6-dd9e-52f7c389515e"
      },
      "execution_count": 20,
      "outputs": [
        {
          "output_type": "stream",
          "name": "stdout",
          "text": [
            "Epoch 1/15\n",
            "1875/1875 [==============================] - 37s 19ms/step - loss: 0.5094 - accuracy: 0.8101 - val_loss: 0.3903 - val_accuracy: 0.8523\n",
            "Epoch 2/15\n",
            "1875/1875 [==============================] - 38s 20ms/step - loss: 0.3504 - accuracy: 0.8680 - val_loss: 0.3240 - val_accuracy: 0.8815\n",
            "Epoch 3/15\n",
            "1875/1875 [==============================] - 34s 18ms/step - loss: 0.3022 - accuracy: 0.8862 - val_loss: 0.3248 - val_accuracy: 0.8827\n",
            "Epoch 4/15\n",
            "1875/1875 [==============================] - 61s 33ms/step - loss: 0.2714 - accuracy: 0.8988 - val_loss: 0.3023 - val_accuracy: 0.8901\n",
            "Epoch 5/15\n",
            "1875/1875 [==============================] - 41s 22ms/step - loss: 0.2467 - accuracy: 0.9070 - val_loss: 0.2920 - val_accuracy: 0.8928\n",
            "Epoch 6/15\n",
            "1875/1875 [==============================] - 41s 22ms/step - loss: 0.2239 - accuracy: 0.9147 - val_loss: 0.2882 - val_accuracy: 0.8986\n",
            "Epoch 7/15\n",
            "1875/1875 [==============================] - 50s 27ms/step - loss: 0.2075 - accuracy: 0.9215 - val_loss: 0.3061 - val_accuracy: 0.8954\n",
            "Epoch 8/15\n",
            "1875/1875 [==============================] - 46s 25ms/step - loss: 0.1899 - accuracy: 0.9276 - val_loss: 0.3232 - val_accuracy: 0.8899\n",
            "Epoch 9/15\n",
            "1875/1875 [==============================] - 42s 23ms/step - loss: 0.1781 - accuracy: 0.9319 - val_loss: 0.2984 - val_accuracy: 0.9010\n",
            "Epoch 10/15\n",
            "1875/1875 [==============================] - 47s 25ms/step - loss: 0.1647 - accuracy: 0.9367 - val_loss: 0.3010 - val_accuracy: 0.9053\n",
            "Epoch 11/15\n",
            "1875/1875 [==============================] - 43s 23ms/step - loss: 0.1545 - accuracy: 0.9421 - val_loss: 0.3073 - val_accuracy: 0.9053\n",
            "Epoch 12/15\n",
            "1875/1875 [==============================] - 57s 30ms/step - loss: 0.1448 - accuracy: 0.9445 - val_loss: 0.3237 - val_accuracy: 0.9002\n",
            "Epoch 13/15\n",
            "1875/1875 [==============================] - 56s 30ms/step - loss: 0.1367 - accuracy: 0.9479 - val_loss: 0.3326 - val_accuracy: 0.9017\n",
            "Epoch 14/15\n",
            "1875/1875 [==============================] - 43s 23ms/step - loss: 0.1301 - accuracy: 0.9506 - val_loss: 0.3564 - val_accuracy: 0.8998\n",
            "Epoch 15/15\n",
            "1875/1875 [==============================] - 35s 19ms/step - loss: 0.1238 - accuracy: 0.9533 - val_loss: 0.3539 - val_accuracy: 0.9016\n"
          ]
        }
      ]
    },
    {
      "cell_type": "code",
      "source": [
        "#Plot loss per iteration\n",
        "plt.plot(r.history['loss'], label='loss')\n",
        "plt.plot(r.history['val_loss'], label='val_loss')\n",
        "plt.legend()"
      ],
      "metadata": {
        "colab": {
          "base_uri": "https://localhost:8080/",
          "height": 283
        },
        "id": "vKvOdsVacTn5",
        "outputId": "a6950ddd-2db6-40b2-8ced-7e18625974d7"
      },
      "execution_count": 22,
      "outputs": [
        {
          "output_type": "execute_result",
          "data": {
            "text/plain": [
              "<matplotlib.legend.Legend at 0x7fb0f8219c10>"
            ]
          },
          "metadata": {},
          "execution_count": 22
        },
        {
          "output_type": "display_data",
          "data": {
            "text/plain": [
              "<Figure size 432x288 with 1 Axes>"
            ],
            "image/png": "[encoded data removed]"
          },
          "metadata": {
            "needs_background": "light"
          }
        }
      ]
    },
    {
      "cell_type": "code",
      "source": [
        "#Plot accuracy per iteration\n",
        "plt.plot(r.history['accuracy'], label='accuracy')\n",
        "plt.plot(r.history['val_accuracy'], label='val_accuracy')\n",
        "plt.legend()"
      ],
      "metadata": {
        "colab": {
          "base_uri": "https://localhost:8080/",
          "height": 287
        },
        "id": "75QaUTEddF0w",
        "outputId": "d980301a-beab-460f-c241-39e328845e29"
      },
      "execution_count": 23,
      "outputs": [
        {
          "output_type": "execute_result",
          "data": {
            "text/plain": [
              "<matplotlib.legend.Legend at 0x7fb0f135fa00>"
            ]
          },
          "metadata": {},
          "execution_count": 23
        },
        {
          "output_type": "display_data",
          "data": {
            "text/plain": [
              "<Figure size 432x288 with 1 Axes>"
            ],
            "image/png": "[encoded data removed]"
          },
          "metadata": {
            "needs_background": "light"
          }
        }
      ]
    },
    {
      "cell_type": "code",
      "source": [
        "from sklearn.metrics import confusion_matrix \n",
        "import numpy as np\n",
        "import itertools\n",
        "\n",
        "def plot_confusion_matrix(cm, classes, \n",
        "                          normalize=False, \n",
        "                          title='Confusion Matrix', \n",
        "                          cmap=plt.cm.Blues):\n",
        "    \"\"\"\n",
        "    This funciton pronts out confusion matrix\n",
        "    Normalization can be applied by setting 'nomalize=True\n",
        "    \"\"\"\n",
        "\n",
        "    if normalize:\n",
        "      cm = cm.astype('float') / cm.sum(axis=1)[:, np.newaxis]\n",
        "      print(\"Normalized confusion metrix\")\n",
        "\n",
        "    else:\n",
        "      print('Confusion matrix, without normalization')\n",
        "    \n",
        "    print(cm)\n",
        "\n",
        "    plt.imshow(cm, interpolation='nearest', cmap=cmap)\n",
        "    plt.title(title)\n",
        "    plt.colorbar()\n",
        "    tick_marks = np.arange(len(classes))\n",
        "    plt.xticks(tick_marks, classes, rotation=45)\n",
        "    plt.yticks(tick_marks, classes)\n",
        "\n",
        "    fmt = '.2f' if normalize else 'd'\n",
        "    thresh = cm.max() / 2.\n",
        "    for i, j in itertools.product(range(cm.shape[0]), range(cm.shape[1])):\n",
        "      plt.text(j, i, format(cm[i,j], fmt),\n",
        "               horizontalalignment=\"center\",\n",
        "               color=\"white\" if cm[i,j] > thresh else \"black\")\n",
        "      \n",
        "    plt.tight_layout()\n",
        "    plt.ylabel('True label')\n",
        "    plt.xlabel('Predicted label')\n",
        "    plt.show()\n",
        "\n",
        "p_test = model.predict(x_test).argmax(axis=1)\n",
        "cm = confusion_matrix(y_test, p_test)\n",
        "plot_confusion_matrix(cm, list(range(10)))"
      ],
      "metadata": {
        "colab": {
          "base_uri": "https://localhost:8080/",
          "height": 525
        },
        "id": "PJW1YJdcdRio",
        "outputId": "0c20e16b-c737-4154-9f7d-404f5c0d3a97"
      },
      "execution_count": 24,
      "outputs": [
        {
          "output_type": "stream",
          "name": "stdout",
          "text": [
            "313/313 [==============================] - 2s 5ms/step\n",
            "Confusion matrix, without normalization\n",
            "[[858   1  20  19   1   3  93   0   5   0]\n",
            " [  1 977   2  14   2   0   2   0   2   0]\n",
            " [ 18   0 853   9  44   0  71   0   5   0]\n",
            " [ 17   8  17 917  22   0  18   0   1   0]\n",
            " [  1   0  84  34 807   1  73   0   0   0]\n",
            " [  0   0   0   1   0 977   1  13   1   7]\n",
            " [112   0  49  22  78   0 731   0   8   0]\n",
            " [  0   0   0   0   0   9   0 947   0  44]\n",
            " [  3   1   3   4   3   4   3   2 974   3]\n",
            " [  1   0   0   0   0   5   0  19   0 975]]\n"
          ]
        },
        {
          "output_type": "display_data",
          "data": {
            "text/plain": [
              "<Figure size 432x288 with 2 Axes>"
            ],
            "image/png": "[encoded data removed]"
          },
          "metadata": {
            "needs_background": "light"
          }
        }
      ]
    },
    {
      "cell_type": "code",
      "source": [
        "#Labels mapping\n",
        "labels = '''\n",
        "T-sihrt/top\n",
        "Trouser\n",
        "Pullover\n",
        "Dress\n",
        "Coat\n",
        "Sandal\n",
        "Shirt\n",
        "Sneaker\n",
        "Bag\n",
        "Ankle boot\n",
        "'''.split()"
      ],
      "metadata": {
        "id": "5HlGqDIpe_sI"
      },
      "execution_count": 26,
      "outputs": []
    },
    {
      "cell_type": "code",
      "source": [
        "#shwo some misclassified examples\n",
        "misclassified_idx = np.where(p_test != y_test)[0]\n",
        "i = np.random.choice(misclassified_idx)\n",
        "plt.imshow(x_test[i].reshape(28,28), cmap='gray')\n",
        "plt.title(\"True label: %s Predicted: %s\" % (labels[y_test[i]], labels[p_test[i]]))"
      ],
      "metadata": {
        "colab": {
          "base_uri": "https://localhost:8080/",
          "height": 299
        },
        "id": "XqBZVLJTfs4x",
        "outputId": "d3b03710-fa1a-435c-cf1e-16d0f21c5c0c"
      },
      "execution_count": 27,
      "outputs": [
        {
          "output_type": "execute_result",
          "data": {
            "text/plain": [
              "Text(0.5, 1.0, 'True label: T-sihrt/top Predicted: Shirt')"
            ]
          },
          "metadata": {},
          "execution_count": 27
        },
        {
          "output_type": "display_data",
          "data": {
            "text/plain": [
              "<Figure size 432x288 with 1 Axes>"
            ],
            "image/png": "[encoded data removed]"
          },
          "metadata": {
            "needs_background": "light"
          }
        }
      ]
    },
    {
      "cell_type": "code",
      "source": [],
      "metadata": {
        "id": "8_N0vwMkgRiO"
      },
      "execution_count": null,
      "outputs": []
    }
  ]
}