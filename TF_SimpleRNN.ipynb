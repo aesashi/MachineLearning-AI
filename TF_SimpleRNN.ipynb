{
  "nbformat": 4,
  "nbformat_minor": 0,
  "metadata": {
    "colab": {
      "provenance": []
    },
    "kernelspec": {
      "name": "python3",
      "display_name": "Python 3"
    },
    "language_info": {
      "name": "python"
    }
  },
  "cells": [
    {
      "cell_type": "code",
      "execution_count": 2,
      "metadata": {
        "colab": {
          "base_uri": "https://localhost:8080/"
        },
        "id": "Zpe6sC1s-izm",
        "outputId": "c6adf324-7c39-4829-96c0-2ae9e6925060"
      },
      "outputs": [
        {
          "output_type": "stream",
          "name": "stdout",
          "text": [
            "Tensorflow version 2.11.0\n"
          ]
        }
      ],
      "source": [
        "import tensorflow as tf\n",
        "print('Tensorflow version', tf.__version__)"
      ]
    },
    {
      "cell_type": "code",
      "source": [
        "from tensorflow.keras.layers import Input, SimpleRNN, Dense, Flatten\n",
        "from tensorflow.keras.models import Model\n",
        "from tensorflow.keras.optimizers import SGD, Adam\n",
        "\n",
        "import numpy as np\n",
        "import pandas as pd\n",
        "import matplotlib.pyplot as plt\n"
      ],
      "metadata": {
        "id": "yu0PyTqI-2qN"
      },
      "execution_count": 3,
      "outputs": []
    },
    {
      "cell_type": "markdown",
      "source": [
        "Create Synthetic data"
      ],
      "metadata": {
        "id": "KBWAzU8k_VpQ"
      }
    },
    {
      "cell_type": "code",
      "source": [
        "#Make the original data\n",
        "series = np.sin(0.1*np.arange(200)) + np.random.randn(200)*0.1\n",
        "\n",
        "#plot it\n",
        "plt.plot(series)\n",
        "plt.show()"
      ],
      "metadata": {
        "colab": {
          "base_uri": "https://localhost:8080/",
          "height": 265
        },
        "id": "immO3ZHt_R_H",
        "outputId": "f1e49a97-d8da-4a6a-8894-ace4d714780f"
      },
      "execution_count": 27,
      "outputs": [
        {
          "output_type": "display_data",
          "data": {
            "text/plain": [
              "<Figure size 432x288 with 1 Axes>"
            ],
            "image/png": "[encoded data removed]"
          },
          "metadata": {
            "needs_background": "light"
          }
        }
      ]
    },
    {
      "cell_type": "markdown",
      "source": [
        "Build Dataset"
      ],
      "metadata": {
        "id": "UycnIzjJ_xBY"
      }
    },
    {
      "cell_type": "code",
      "source": [
        "T = 10\n",
        "D = 1\n",
        "X = []\n",
        "Y = []\n",
        "for t in range(len(series) - T):\n",
        "  x = series[t:t+T]\n",
        "  X.append(x)\n",
        "  y = series[t + T]\n",
        "  Y.append(y)\n",
        "X = np.array(X).reshape(-1, T, 1) #Now the data should be N x T x D\n",
        "Y = np.array(Y)\n",
        "N = len(X)\n",
        "print(\"X.shape\", X.shape, \"Y.shape\", Y.shape)"
      ],
      "metadata": {
        "colab": {
          "base_uri": "https://localhost:8080/"
        },
        "id": "RCb5co3t_qJF",
        "outputId": "1f1aed0d-993d-4e4a-e8c9-01c3b489913a"
      },
      "execution_count": 28,
      "outputs": [
        {
          "output_type": "stream",
          "name": "stdout",
          "text": [
            "X.shape (190, 10, 1) Y.shape (190,)\n"
          ]
        }
      ]
    },
    {
      "cell_type": "markdown",
      "source": [
        "Autoregressive RNN model"
      ],
      "metadata": {
        "id": "LSlWyE8VBanK"
      }
    },
    {
      "cell_type": "code",
      "source": [
        "i = Input(shape=(T, 1))\n",
        "x = SimpleRNN(5, activation=None)(i)\n",
        "x = Dense(1)(x)\n",
        "model = Model(i, x)\n",
        "model.compile(\n",
        "    loss='mse',\n",
        "    optimizer=Adam(0.1),\n",
        ")\n",
        "\n",
        "##train the model\n",
        "\n",
        "r = model.fit(\n",
        "    X[:-N//2], Y[:-N//2],\n",
        "    epochs=80,\n",
        "    validation_data=(X[-N//2:], Y[-N//2:]),\n",
        ")"
      ],
      "metadata": {
        "colab": {
          "base_uri": "https://localhost:8080/"
        },
        "id": "LeBPhTu5AVmD",
        "outputId": "10d15cf5-6801-4945-9149-856396872a87"
      },
      "execution_count": 32,
      "outputs": [
        {
          "output_type": "stream",
          "name": "stdout",
          "text": [
            "Epoch 1/80\n",
            "3/3 [==============================] - 1s 119ms/step - loss: 1.7689 - val_loss: 0.1615\n",
            "Epoch 2/80\n",
            "3/3 [==============================] - 0s 28ms/step - loss: 0.2381 - val_loss: 0.1200\n",
            "Epoch 3/80\n",
            "3/3 [==============================] - 0s 19ms/step - loss: 0.0770 - val_loss: 0.1363\n",
            "Epoch 4/80\n",
            "3/3 [==============================] - 0s 26ms/step - loss: 0.0831 - val_loss: 0.0761\n",
            "Epoch 5/80\n",
            "3/3 [==============================] - 0s 32ms/step - loss: 0.0942 - val_loss: 0.0554\n",
            "Epoch 6/80\n",
            "3/3 [==============================] - 0s 27ms/step - loss: 0.0710 - val_loss: 0.0306\n",
            "Epoch 7/80\n",
            "3/3 [==============================] - 0s 19ms/step - loss: 0.0368 - val_loss: 0.0628\n",
            "Epoch 8/80\n",
            "3/3 [==============================] - 0s 21ms/step - loss: 0.0591 - val_loss: 0.0342\n",
            "Epoch 9/80\n",
            "3/3 [==============================] - 0s 30ms/step - loss: 0.0363 - val_loss: 0.0435\n",
            "Epoch 10/80\n",
            "3/3 [==============================] - 0s 20ms/step - loss: 0.0446 - val_loss: 0.0327\n",
            "Epoch 11/80\n",
            "3/3 [==============================] - 0s 25ms/step - loss: 0.0284 - val_loss: 0.0255\n",
            "Epoch 12/80\n",
            "3/3 [==============================] - 0s 21ms/step - loss: 0.0381 - val_loss: 0.0233\n",
            "Epoch 13/80\n",
            "3/3 [==============================] - 0s 20ms/step - loss: 0.0294 - val_loss: 0.0233\n",
            "Epoch 14/80\n",
            "3/3 [==============================] - 0s 21ms/step - loss: 0.0319 - val_loss: 0.0232\n",
            "Epoch 15/80\n",
            "3/3 [==============================] - 0s 20ms/step - loss: 0.0281 - val_loss: 0.0211\n",
            "Epoch 16/80\n",
            "3/3 [==============================] - 0s 20ms/step - loss: 0.0269 - val_loss: 0.0202\n",
            "Epoch 17/80\n",
            "3/3 [==============================] - 0s 30ms/step - loss: 0.0261 - val_loss: 0.0201\n",
            "Epoch 18/80\n",
            "3/3 [==============================] - 0s 23ms/step - loss: 0.0267 - val_loss: 0.0198\n",
            "Epoch 19/80\n",
            "3/3 [==============================] - 0s 20ms/step - loss: 0.0248 - val_loss: 0.0190\n",
            "Epoch 20/80\n",
            "3/3 [==============================] - 0s 22ms/step - loss: 0.0263 - val_loss: 0.0194\n",
            "Epoch 21/80\n",
            "3/3 [==============================] - 0s 20ms/step - loss: 0.0252 - val_loss: 0.0191\n",
            "Epoch 22/80\n",
            "3/3 [==============================] - 0s 27ms/step - loss: 0.0253 - val_loss: 0.0177\n",
            "Epoch 23/80\n",
            "3/3 [==============================] - 0s 31ms/step - loss: 0.0253 - val_loss: 0.0179\n",
            "Epoch 24/80\n",
            "3/3 [==============================] - 0s 20ms/step - loss: 0.0246 - val_loss: 0.0176\n",
            "Epoch 25/80\n",
            "3/3 [==============================] - 0s 20ms/step - loss: 0.0241 - val_loss: 0.0169\n",
            "Epoch 26/80\n",
            "3/3 [==============================] - 0s 34ms/step - loss: 0.0235 - val_loss: 0.0176\n",
            "Epoch 27/80\n",
            "3/3 [==============================] - 0s 29ms/step - loss: 0.0233 - val_loss: 0.0173\n",
            "Epoch 28/80\n",
            "3/3 [==============================] - 0s 27ms/step - loss: 0.0227 - val_loss: 0.0165\n",
            "Epoch 29/80\n",
            "3/3 [==============================] - 0s 20ms/step - loss: 0.0236 - val_loss: 0.0169\n",
            "Epoch 30/80\n",
            "3/3 [==============================] - 0s 27ms/step - loss: 0.0224 - val_loss: 0.0174\n",
            "Epoch 31/80\n",
            "3/3 [==============================] - 0s 27ms/step - loss: 0.0229 - val_loss: 0.0161\n",
            "Epoch 32/80\n",
            "3/3 [==============================] - 0s 20ms/step - loss: 0.0229 - val_loss: 0.0174\n",
            "Epoch 33/80\n",
            "3/3 [==============================] - 0s 23ms/step - loss: 0.0220 - val_loss: 0.0165\n",
            "Epoch 34/80\n",
            "3/3 [==============================] - 0s 21ms/step - loss: 0.0221 - val_loss: 0.0165\n",
            "Epoch 35/80\n",
            "3/3 [==============================] - 0s 21ms/step - loss: 0.0218 - val_loss: 0.0158\n",
            "Epoch 36/80\n",
            "3/3 [==============================] - 0s 27ms/step - loss: 0.0222 - val_loss: 0.0167\n",
            "Epoch 37/80\n",
            "3/3 [==============================] - 0s 31ms/step - loss: 0.0218 - val_loss: 0.0155\n",
            "Epoch 38/80\n",
            "3/3 [==============================] - 0s 27ms/step - loss: 0.0234 - val_loss: 0.0169\n",
            "Epoch 39/80\n",
            "3/3 [==============================] - 0s 19ms/step - loss: 0.0215 - val_loss: 0.0167\n",
            "Epoch 40/80\n",
            "3/3 [==============================] - 0s 21ms/step - loss: 0.0227 - val_loss: 0.0163\n",
            "Epoch 41/80\n",
            "3/3 [==============================] - 0s 27ms/step - loss: 0.0224 - val_loss: 0.0174\n",
            "Epoch 42/80\n",
            "3/3 [==============================] - 0s 19ms/step - loss: 0.0213 - val_loss: 0.0159\n",
            "Epoch 43/80\n",
            "3/3 [==============================] - 0s 33ms/step - loss: 0.0234 - val_loss: 0.0161\n",
            "Epoch 44/80\n",
            "3/3 [==============================] - 0s 28ms/step - loss: 0.0217 - val_loss: 0.0168\n",
            "Epoch 45/80\n",
            "3/3 [==============================] - 0s 20ms/step - loss: 0.0227 - val_loss: 0.0154\n",
            "Epoch 46/80\n",
            "3/3 [==============================] - 0s 21ms/step - loss: 0.0224 - val_loss: 0.0158\n",
            "Epoch 47/80\n",
            "3/3 [==============================] - 0s 28ms/step - loss: 0.0216 - val_loss: 0.0164\n",
            "Epoch 48/80\n",
            "3/3 [==============================] - 0s 19ms/step - loss: 0.0216 - val_loss: 0.0153\n",
            "Epoch 49/80\n",
            "3/3 [==============================] - 0s 29ms/step - loss: 0.0220 - val_loss: 0.0152\n",
            "Epoch 50/80\n",
            "3/3 [==============================] - 0s 21ms/step - loss: 0.0225 - val_loss: 0.0170\n",
            "Epoch 51/80\n",
            "3/3 [==============================] - 0s 21ms/step - loss: 0.0221 - val_loss: 0.0163\n",
            "Epoch 52/80\n",
            "3/3 [==============================] - 0s 21ms/step - loss: 0.0214 - val_loss: 0.0155\n",
            "Epoch 53/80\n",
            "3/3 [==============================] - 0s 21ms/step - loss: 0.0209 - val_loss: 0.0166\n",
            "Epoch 54/80\n",
            "3/3 [==============================] - 0s 27ms/step - loss: 0.0213 - val_loss: 0.0148\n",
            "Epoch 55/80\n",
            "3/3 [==============================] - 0s 23ms/step - loss: 0.0208 - val_loss: 0.0147\n",
            "Epoch 56/80\n",
            "3/3 [==============================] - 0s 20ms/step - loss: 0.0218 - val_loss: 0.0146\n",
            "Epoch 57/80\n",
            "3/3 [==============================] - 0s 22ms/step - loss: 0.0232 - val_loss: 0.0180\n",
            "Epoch 58/80\n",
            "3/3 [==============================] - 0s 28ms/step - loss: 0.0221 - val_loss: 0.0172\n",
            "Epoch 59/80\n",
            "3/3 [==============================] - 0s 28ms/step - loss: 0.0214 - val_loss: 0.0158\n",
            "Epoch 60/80\n",
            "3/3 [==============================] - 0s 32ms/step - loss: 0.0217 - val_loss: 0.0148\n",
            "Epoch 61/80\n",
            "3/3 [==============================] - 0s 19ms/step - loss: 0.0222 - val_loss: 0.0155\n",
            "Epoch 62/80\n",
            "3/3 [==============================] - 0s 20ms/step - loss: 0.0219 - val_loss: 0.0157\n",
            "Epoch 63/80\n",
            "3/3 [==============================] - 0s 23ms/step - loss: 0.0217 - val_loss: 0.0152\n",
            "Epoch 64/80\n",
            "3/3 [==============================] - 0s 29ms/step - loss: 0.0216 - val_loss: 0.0149\n",
            "Epoch 65/80\n",
            "3/3 [==============================] - 0s 20ms/step - loss: 0.0204 - val_loss: 0.0153\n",
            "Epoch 66/80\n",
            "3/3 [==============================] - 0s 23ms/step - loss: 0.0205 - val_loss: 0.0149\n",
            "Epoch 67/80\n",
            "3/3 [==============================] - 0s 25ms/step - loss: 0.0254 - val_loss: 0.0153\n",
            "Epoch 68/80\n",
            "3/3 [==============================] - 0s 20ms/step - loss: 0.0210 - val_loss: 0.0177\n",
            "Epoch 69/80\n",
            "3/3 [==============================] - 0s 28ms/step - loss: 0.0220 - val_loss: 0.0185\n",
            "Epoch 70/80\n",
            "3/3 [==============================] - 0s 22ms/step - loss: 0.0231 - val_loss: 0.0157\n",
            "Epoch 71/80\n",
            "3/3 [==============================] - 0s 21ms/step - loss: 0.0257 - val_loss: 0.0155\n",
            "Epoch 72/80\n",
            "3/3 [==============================] - 0s 30ms/step - loss: 0.0253 - val_loss: 0.0190\n",
            "Epoch 73/80\n",
            "3/3 [==============================] - 0s 27ms/step - loss: 0.0250 - val_loss: 0.0242\n",
            "Epoch 74/80\n",
            "3/3 [==============================] - 0s 23ms/step - loss: 0.0235 - val_loss: 0.0219\n",
            "Epoch 75/80\n",
            "3/3 [==============================] - 0s 25ms/step - loss: 0.0236 - val_loss: 0.0149\n",
            "Epoch 76/80\n",
            "3/3 [==============================] - 0s 21ms/step - loss: 0.0214 - val_loss: 0.0177\n",
            "Epoch 77/80\n",
            "3/3 [==============================] - 0s 24ms/step - loss: 0.0219 - val_loss: 0.0171\n",
            "Epoch 78/80\n",
            "3/3 [==============================] - 0s 28ms/step - loss: 0.0212 - val_loss: 0.0153\n",
            "Epoch 79/80\n",
            "3/3 [==============================] - 0s 28ms/step - loss: 0.0230 - val_loss: 0.0165\n",
            "Epoch 80/80\n",
            "3/3 [==============================] - 0s 30ms/step - loss: 0.0244 - val_loss: 0.0157\n"
          ]
        }
      ]
    },
    {
      "cell_type": "markdown",
      "source": [
        "Plot a loss"
      ],
      "metadata": {
        "id": "sqTRVAScCoAG"
      }
    },
    {
      "cell_type": "code",
      "source": [
        "plt.plot(r.history['loss'], label='loss')\n",
        "plt.plot(r.history['val_loss'], label='val_loss')\n",
        "plt.legend()"
      ],
      "metadata": {
        "colab": {
          "base_uri": "https://localhost:8080/",
          "height": 283
        },
        "id": "90QEYqLKCPtO",
        "outputId": "37e17a3e-bf0b-4ba1-bfe1-f72b0c66c27c"
      },
      "execution_count": 33,
      "outputs": [
        {
          "output_type": "execute_result",
          "data": {
            "text/plain": [
              "<matplotlib.legend.Legend at 0x7fc9135ea310>"
            ]
          },
          "metadata": {},
          "execution_count": 33
        },
        {
          "output_type": "display_data",
          "data": {
            "text/plain": [
              "<Figure size 432x288 with 1 Axes>"
            ],
            "image/png": "[encoded data removed]"
          },
          "metadata": {
            "needs_background": "light"
          }
        }
      ]
    },
    {
      "cell_type": "code",
      "source": [
        "#Wrong way of forecast using true targets\n",
        "validation_target = Y[-N//2:]\n",
        "validation_predictions = []\n",
        "\n",
        "#index of first validation input\n",
        "i = -N//2\n",
        "\n",
        "while len(validation_predictions) < len(validation_target):\n",
        "  p = model.predict(X[i].reshape(1, -1, 1))[0,0] #1x1 array -> scalar\n",
        "  i += 1\n",
        "  \n",
        "  #Update the prediction list\n",
        "  validation_predictions.append(p)"
      ],
      "metadata": {
        "colab": {
          "base_uri": "https://localhost:8080/"
        },
        "id": "0gBLyLEfC2UR",
        "outputId": "aeea2f38-e3d7-454f-84f6-51284f0f8dd9"
      },
      "execution_count": 23,
      "outputs": [
        {
          "output_type": "stream",
          "name": "stdout",
          "text": [
            "1/1 [==============================] - 0s 163ms/step\n",
            "1/1 [==============================] - 0s 26ms/step\n",
            "1/1 [==============================] - 0s 26ms/step\n",
            "1/1 [==============================] - 0s 24ms/step\n",
            "1/1 [==============================] - 0s 25ms/step\n",
            "1/1 [==============================] - 0s 24ms/step\n",
            "1/1 [==============================] - 0s 23ms/step\n",
            "1/1 [==============================] - 0s 22ms/step\n",
            "1/1 [==============================] - 0s 31ms/step\n",
            "1/1 [==============================] - 0s 27ms/step\n",
            "1/1 [==============================] - 0s 26ms/step\n",
            "1/1 [==============================] - 0s 27ms/step\n",
            "1/1 [==============================] - 0s 28ms/step\n",
            "1/1 [==============================] - 0s 28ms/step\n",
            "1/1 [==============================] - 0s 25ms/step\n",
            "1/1 [==============================] - 0s 25ms/step\n",
            "1/1 [==============================] - 0s 25ms/step\n",
            "1/1 [==============================] - 0s 28ms/step\n",
            "1/1 [==============================] - 0s 25ms/step\n",
            "1/1 [==============================] - 0s 36ms/step\n",
            "1/1 [==============================] - 0s 27ms/step\n",
            "1/1 [==============================] - 0s 28ms/step\n",
            "1/1 [==============================] - 0s 24ms/step\n",
            "1/1 [==============================] - 0s 27ms/step\n",
            "1/1 [==============================] - 0s 22ms/step\n",
            "1/1 [==============================] - 0s 23ms/step\n",
            "1/1 [==============================] - 0s 22ms/step\n",
            "1/1 [==============================] - 0s 23ms/step\n",
            "1/1 [==============================] - 0s 25ms/step\n",
            "1/1 [==============================] - 0s 25ms/step\n",
            "1/1 [==============================] - 0s 27ms/step\n",
            "1/1 [==============================] - 0s 26ms/step\n",
            "1/1 [==============================] - 0s 23ms/step\n",
            "1/1 [==============================] - 0s 27ms/step\n",
            "1/1 [==============================] - 0s 24ms/step\n",
            "1/1 [==============================] - 0s 23ms/step\n",
            "1/1 [==============================] - 0s 32ms/step\n",
            "1/1 [==============================] - 0s 26ms/step\n",
            "1/1 [==============================] - 0s 27ms/step\n",
            "1/1 [==============================] - 0s 29ms/step\n",
            "1/1 [==============================] - 0s 32ms/step\n",
            "1/1 [==============================] - 0s 25ms/step\n",
            "1/1 [==============================] - 0s 30ms/step\n",
            "1/1 [==============================] - 0s 25ms/step\n",
            "1/1 [==============================] - 0s 25ms/step\n",
            "1/1 [==============================] - 0s 23ms/step\n",
            "1/1 [==============================] - 0s 23ms/step\n",
            "1/1 [==============================] - 0s 25ms/step\n",
            "1/1 [==============================] - 0s 26ms/step\n",
            "1/1 [==============================] - 0s 28ms/step\n",
            "1/1 [==============================] - 0s 23ms/step\n",
            "1/1 [==============================] - 0s 23ms/step\n",
            "1/1 [==============================] - 0s 25ms/step\n",
            "1/1 [==============================] - 0s 22ms/step\n",
            "1/1 [==============================] - 0s 23ms/step\n",
            "1/1 [==============================] - 0s 29ms/step\n",
            "1/1 [==============================] - 0s 22ms/step\n",
            "1/1 [==============================] - 0s 25ms/step\n",
            "1/1 [==============================] - 0s 24ms/step\n",
            "1/1 [==============================] - 0s 30ms/step\n",
            "1/1 [==============================] - 0s 24ms/step\n",
            "1/1 [==============================] - 0s 27ms/step\n",
            "1/1 [==============================] - 0s 23ms/step\n",
            "1/1 [==============================] - 0s 23ms/step\n",
            "1/1 [==============================] - 0s 34ms/step\n",
            "1/1 [==============================] - 0s 23ms/step\n",
            "1/1 [==============================] - 0s 25ms/step\n",
            "1/1 [==============================] - 0s 24ms/step\n",
            "1/1 [==============================] - 0s 31ms/step\n",
            "1/1 [==============================] - 0s 26ms/step\n",
            "1/1 [==============================] - 0s 22ms/step\n",
            "1/1 [==============================] - 0s 25ms/step\n",
            "1/1 [==============================] - 0s 23ms/step\n",
            "1/1 [==============================] - 0s 24ms/step\n",
            "1/1 [==============================] - 0s 30ms/step\n",
            "1/1 [==============================] - 0s 25ms/step\n",
            "1/1 [==============================] - 0s 25ms/step\n",
            "1/1 [==============================] - 0s 28ms/step\n",
            "1/1 [==============================] - 0s 26ms/step\n",
            "1/1 [==============================] - 0s 26ms/step\n",
            "1/1 [==============================] - 0s 22ms/step\n",
            "1/1 [==============================] - 0s 23ms/step\n",
            "1/1 [==============================] - 0s 25ms/step\n",
            "1/1 [==============================] - 0s 22ms/step\n",
            "1/1 [==============================] - 0s 23ms/step\n",
            "1/1 [==============================] - 0s 23ms/step\n",
            "1/1 [==============================] - 0s 26ms/step\n",
            "1/1 [==============================] - 0s 23ms/step\n",
            "1/1 [==============================] - 0s 25ms/step\n",
            "1/1 [==============================] - 0s 29ms/step\n",
            "1/1 [==============================] - 0s 23ms/step\n",
            "1/1 [==============================] - 0s 22ms/step\n",
            "1/1 [==============================] - 0s 24ms/step\n",
            "1/1 [==============================] - 0s 30ms/step\n",
            "1/1 [==============================] - 0s 22ms/step\n"
          ]
        }
      ]
    },
    {
      "cell_type": "code",
      "source": [
        "plt.plot(validation_target, label='forecast target')\n",
        "plt.plot(validation_predictions, label='forecast predictions')\n",
        "plt.legend()"
      ],
      "metadata": {
        "colab": {
          "base_uri": "https://localhost:8080/",
          "height": 283
        },
        "id": "dt9d2njoDlNi",
        "outputId": "1084a7f4-362f-4b95-aa8b-f1e8b72405ea"
      },
      "execution_count": 24,
      "outputs": [
        {
          "output_type": "execute_result",
          "data": {
            "text/plain": [
              "<matplotlib.legend.Legend at 0x7fc9256d2dc0>"
            ]
          },
          "metadata": {},
          "execution_count": 24
        },
        {
          "output_type": "display_data",
          "data": {
            "text/plain": [
              "<Figure size 432x288 with 1 Axes>"
            ],
            "image/png": "[encoded data removed]"
          },
          "metadata": {
            "needs_background": "light"
          }
        }
      ]
    },
    {
      "cell_type": "code",
      "source": [
        "##Correct forecast values ( use only self-predictions for making future predictions)\n",
        "\n",
        "validation_target = Y[-N//2:]\n",
        "validation_predictions = []\n",
        "\n",
        "#last train input\n",
        "last_x = X[-N//2] #1-D array of length T\n",
        "\n",
        "while len(validation_predictions) < len(validation_target):\n",
        "  p = model.predict(last_x.reshape(1, -1, 1))[0,0] # 1x1 array -> scalar\n",
        "\n",
        "  #update the predictions list\n",
        "  validation_predictions.append(p)\n",
        "\n",
        "  #make the new input\n",
        "  last_x = np.roll(last_x, -1)\n",
        "  last_x[-1] = p"
      ],
      "metadata": {
        "colab": {
          "base_uri": "https://localhost:8080/"
        },
        "id": "fkGrE55aD2mx",
        "outputId": "1d7c37aa-49bb-4cb9-81d2-20ae222e795f"
      },
      "execution_count": 35,
      "outputs": [
        {
          "output_type": "stream",
          "name": "stdout",
          "text": [
            "1/1 [==============================] - 0s 149ms/step\n",
            "1/1 [==============================] - 0s 22ms/step\n",
            "1/1 [==============================] - 0s 29ms/step\n",
            "1/1 [==============================] - 0s 28ms/step\n",
            "1/1 [==============================] - 0s 31ms/step\n",
            "1/1 [==============================] - 0s 23ms/step\n",
            "1/1 [==============================] - 0s 26ms/step\n",
            "1/1 [==============================] - 0s 23ms/step\n",
            "1/1 [==============================] - 0s 24ms/step\n",
            "1/1 [==============================] - 0s 23ms/step\n",
            "1/1 [==============================] - 0s 30ms/step\n",
            "1/1 [==============================] - 0s 24ms/step\n",
            "1/1 [==============================] - 0s 25ms/step\n",
            "1/1 [==============================] - 0s 24ms/step\n",
            "1/1 [==============================] - 0s 22ms/step\n",
            "1/1 [==============================] - 0s 24ms/step\n",
            "1/1 [==============================] - 0s 25ms/step\n",
            "1/1 [==============================] - 0s 26ms/step\n",
            "1/1 [==============================] - 0s 22ms/step\n",
            "1/1 [==============================] - 0s 27ms/step\n",
            "1/1 [==============================] - 0s 23ms/step\n",
            "1/1 [==============================] - 0s 23ms/step\n",
            "1/1 [==============================] - 0s 25ms/step\n",
            "1/1 [==============================] - 0s 26ms/step\n",
            "1/1 [==============================] - 0s 29ms/step\n",
            "1/1 [==============================] - 0s 26ms/step\n",
            "1/1 [==============================] - 0s 33ms/step\n",
            "1/1 [==============================] - 0s 27ms/step\n",
            "1/1 [==============================] - 0s 35ms/step\n",
            "1/1 [==============================] - 0s 23ms/step\n",
            "1/1 [==============================] - 0s 24ms/step\n",
            "1/1 [==============================] - 0s 26ms/step\n",
            "1/1 [==============================] - 0s 22ms/step\n",
            "1/1 [==============================] - 0s 30ms/step\n",
            "1/1 [==============================] - 0s 24ms/step\n",
            "1/1 [==============================] - 0s 29ms/step\n",
            "1/1 [==============================] - 0s 35ms/step\n",
            "1/1 [==============================] - 0s 24ms/step\n",
            "1/1 [==============================] - 0s 23ms/step\n",
            "1/1 [==============================] - 0s 22ms/step\n",
            "1/1 [==============================] - 0s 23ms/step\n",
            "1/1 [==============================] - 0s 23ms/step\n",
            "1/1 [==============================] - 0s 27ms/step\n",
            "1/1 [==============================] - 0s 26ms/step\n",
            "1/1 [==============================] - 0s 23ms/step\n",
            "1/1 [==============================] - 0s 23ms/step\n",
            "1/1 [==============================] - 0s 26ms/step\n",
            "1/1 [==============================] - 0s 22ms/step\n",
            "1/1 [==============================] - 0s 22ms/step\n",
            "1/1 [==============================] - 0s 27ms/step\n",
            "1/1 [==============================] - 0s 25ms/step\n",
            "1/1 [==============================] - 0s 26ms/step\n",
            "1/1 [==============================] - 0s 24ms/step\n",
            "1/1 [==============================] - 0s 28ms/step\n",
            "1/1 [==============================] - 0s 24ms/step\n",
            "1/1 [==============================] - 0s 25ms/step\n",
            "1/1 [==============================] - 0s 24ms/step\n",
            "1/1 [==============================] - 0s 23ms/step\n",
            "1/1 [==============================] - 0s 29ms/step\n",
            "1/1 [==============================] - 0s 26ms/step\n",
            "1/1 [==============================] - 0s 24ms/step\n",
            "1/1 [==============================] - 0s 28ms/step\n",
            "1/1 [==============================] - 0s 23ms/step\n",
            "1/1 [==============================] - 0s 31ms/step\n",
            "1/1 [==============================] - 0s 25ms/step\n",
            "1/1 [==============================] - 0s 28ms/step\n",
            "1/1 [==============================] - 0s 27ms/step\n",
            "1/1 [==============================] - 0s 24ms/step\n",
            "1/1 [==============================] - 0s 24ms/step\n",
            "1/1 [==============================] - 0s 25ms/step\n",
            "1/1 [==============================] - 0s 25ms/step\n",
            "1/1 [==============================] - 0s 26ms/step\n",
            "1/1 [==============================] - 0s 38ms/step\n",
            "1/1 [==============================] - 0s 32ms/step\n",
            "1/1 [==============================] - 0s 32ms/step\n",
            "1/1 [==============================] - 0s 31ms/step\n",
            "1/1 [==============================] - 0s 33ms/step\n",
            "1/1 [==============================] - 0s 34ms/step\n",
            "1/1 [==============================] - 0s 34ms/step\n",
            "1/1 [==============================] - 0s 35ms/step\n",
            "1/1 [==============================] - 0s 41ms/step\n",
            "1/1 [==============================] - 0s 36ms/step\n",
            "1/1 [==============================] - 0s 39ms/step\n",
            "1/1 [==============================] - 0s 34ms/step\n",
            "1/1 [==============================] - 0s 35ms/step\n",
            "1/1 [==============================] - 0s 40ms/step\n",
            "1/1 [==============================] - 0s 39ms/step\n",
            "1/1 [==============================] - 0s 36ms/step\n",
            "1/1 [==============================] - 0s 36ms/step\n",
            "1/1 [==============================] - 0s 36ms/step\n",
            "1/1 [==============================] - 0s 35ms/step\n",
            "1/1 [==============================] - 0s 35ms/step\n",
            "1/1 [==============================] - 0s 46ms/step\n",
            "1/1 [==============================] - 0s 37ms/step\n",
            "1/1 [==============================] - 0s 36ms/step\n"
          ]
        }
      ]
    },
    {
      "cell_type": "code",
      "source": [
        "plt.plot(validation_target, label='forecast target')\n",
        "plt.plot(validation_predictions, label='forecast predictions')\n",
        "plt.legend()"
      ],
      "metadata": {
        "colab": {
          "base_uri": "https://localhost:8080/",
          "height": 283
        },
        "id": "lf9Yc_AKEyHJ",
        "outputId": "d7637f5a-4aca-4a93-b1f3-6f8f5e07574d"
      },
      "execution_count": 36,
      "outputs": [
        {
          "output_type": "execute_result",
          "data": {
            "text/plain": [
              "<matplotlib.legend.Legend at 0x7fc91651ec10>"
            ]
          },
          "metadata": {},
          "execution_count": 36
        },
        {
          "output_type": "display_data",
          "data": {
            "text/plain": [
              "<Figure size 432x288 with 1 Axes>"
            ],
            "image/png": "[encoded data removed]"
          },
          "metadata": {
            "needs_background": "light"
          }
        }
      ]
    },
    {
      "cell_type": "code",
      "source": [],
      "metadata": {
        "id": "qRObTe65FEGf"
      },
      "execution_count": null,
      "outputs": []
    }
  ]
}