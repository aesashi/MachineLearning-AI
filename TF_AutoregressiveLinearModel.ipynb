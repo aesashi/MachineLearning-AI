{
  "nbformat": 4,
  "nbformat_minor": 0,
  "metadata": {
    "colab": {
      "provenance": []
    },
    "kernelspec": {
      "name": "python3",
      "display_name": "Python 3"
    },
    "language_info": {
      "name": "python"
    }
  },
  "cells": [
    {
      "cell_type": "code",
      "execution_count": 1,
      "metadata": {
        "id": "f1dvwKjdLcRd"
      },
      "outputs": [],
      "source": [
        "import tensorflow as tf"
      ]
    },
    {
      "cell_type": "code",
      "source": [
        "from tensorflow.keras.layers import Input, Dense\n",
        "from tensorflow.keras.models import Model\n",
        "from tensorflow.keras.optimizers import SGD, Adam\n",
        "\n",
        "import numpy as np\n",
        "import pandas as pd\n",
        "import matplotlib.pyplot as plt"
      ],
      "metadata": {
        "id": "NRXYxxnhLfcH"
      },
      "execution_count": 7,
      "outputs": []
    },
    {
      "cell_type": "markdown",
      "source": [
        "Make Original Data"
      ],
      "metadata": {
        "id": "ZtEms2oeMKsS"
      }
    },
    {
      "cell_type": "code",
      "source": [
        "series = np.sin(0.1*np.arange(200))+ np.random.randn(200)*0.1\n",
        "#plot it\n",
        "plt.plot(series)\n",
        "plt.show()"
      ],
      "metadata": {
        "colab": {
          "base_uri": "https://localhost:8080/",
          "height": 265
        },
        "id": "TJSRwtEOMJYo",
        "outputId": "04ab1fd4-5ee0-443a-dc0c-70f4a3644891"
      },
      "execution_count": 44,
      "outputs": [
        {
          "output_type": "display_data",
          "data": {
            "text/plain": [
              "<Figure size 432x288 with 1 Axes>"
            ],
            "image/png": "[encoded data removed]"
          },
          "metadata": {
            "needs_background": "light"
          }
        }
      ]
    },
    {
      "cell_type": "markdown",
      "source": [
        "Build Dataset"
      ],
      "metadata": {
        "id": "jVZ0SFGUMtVU"
      }
    },
    {
      "cell_type": "code",
      "source": [
        "#Lets see if we can use T past values to predict the next value\n",
        "T = 10\n",
        "X = []\n",
        "Y = []\n",
        "for t in range(len(series) - T):\n",
        "  x = series[t:t+T]\n",
        "  X.append(x)\n",
        "  y = series[t+T]\n",
        "  Y.append(y)\n",
        "\n",
        "X = np.array(X).reshape(-1, T)\n",
        "Y = np.array(Y)\n",
        "N = len(X)\n",
        "print(\"X.shape\", X.shape, 'Y.shape', Y.shape)"
      ],
      "metadata": {
        "colab": {
          "base_uri": "https://localhost:8080/"
        },
        "id": "R3-Da789L4eW",
        "outputId": "b779f9d6-5f39-4f8d-8dce-43dec26b9f4d"
      },
      "execution_count": 45,
      "outputs": [
        {
          "output_type": "stream",
          "name": "stdout",
          "text": [
            "X.shape (190, 10) Y.shape (190,)\n"
          ]
        }
      ]
    },
    {
      "cell_type": "markdown",
      "source": [
        "Autoregressive Linear Model"
      ],
      "metadata": {
        "id": "PJHYpJKhOyLF"
      }
    },
    {
      "cell_type": "code",
      "source": [
        "i = Input(shape=(T,))\n",
        "x = Dense(1)(i)\n",
        "model = Model(i, x)\n",
        "model.compile(\n",
        "    loss='mse',\n",
        "    optimizer=Adam(0.1)\n",
        ")"
      ],
      "metadata": {
        "id": "NpWBSiqBOq-Z"
      },
      "execution_count": 46,
      "outputs": []
    },
    {
      "cell_type": "markdown",
      "source": [
        "Train the model"
      ],
      "metadata": {
        "id": "fxNYz3INPP-2"
      }
    },
    {
      "cell_type": "code",
      "source": [
        "r = model.fit(\n",
        "    X[:-N//2], Y[:-N//2],\n",
        "    epochs = 80,\n",
        "    validation_data=(X[-N//2:],Y[-N//2:]),\n",
        ")"
      ],
      "metadata": {
        "colab": {
          "base_uri": "https://localhost:8080/"
        },
        "id": "pHnyq3S1PN82",
        "outputId": "a99b96e5-5e3b-4485-8ad6-d0ab52e48890"
      },
      "execution_count": 47,
      "outputs": [
        {
          "output_type": "stream",
          "name": "stdout",
          "text": [
            "Epoch 1/80\n",
            "3/3 [==============================] - 1s 75ms/step - loss: 0.3603 - val_loss: 0.1813\n",
            "Epoch 2/80\n",
            "3/3 [==============================] - 0s 26ms/step - loss: 0.1255 - val_loss: 0.0718\n",
            "Epoch 3/80\n",
            "3/3 [==============================] - 0s 27ms/step - loss: 0.0392 - val_loss: 0.0331\n",
            "Epoch 4/80\n",
            "3/3 [==============================] - 0s 28ms/step - loss: 0.0405 - val_loss: 0.0428\n",
            "Epoch 5/80\n",
            "3/3 [==============================] - 0s 19ms/step - loss: 0.0532 - val_loss: 0.0696\n",
            "Epoch 6/80\n",
            "3/3 [==============================] - 0s 22ms/step - loss: 0.0637 - val_loss: 0.0604\n",
            "Epoch 7/80\n",
            "3/3 [==============================] - 0s 19ms/step - loss: 0.0473 - val_loss: 0.0320\n",
            "Epoch 8/80\n",
            "3/3 [==============================] - 0s 21ms/step - loss: 0.0295 - val_loss: 0.0229\n",
            "Epoch 9/80\n",
            "3/3 [==============================] - 0s 28ms/step - loss: 0.0200 - val_loss: 0.0210\n",
            "Epoch 10/80\n",
            "3/3 [==============================] - 0s 18ms/step - loss: 0.0218 - val_loss: 0.0241\n",
            "Epoch 11/80\n",
            "3/3 [==============================] - 0s 21ms/step - loss: 0.0237 - val_loss: 0.0256\n",
            "Epoch 12/80\n",
            "3/3 [==============================] - 0s 18ms/step - loss: 0.0237 - val_loss: 0.0230\n",
            "Epoch 13/80\n",
            "3/3 [==============================] - 0s 30ms/step - loss: 0.0210 - val_loss: 0.0188\n",
            "Epoch 14/80\n",
            "3/3 [==============================] - 0s 21ms/step - loss: 0.0174 - val_loss: 0.0168\n",
            "Epoch 15/80\n",
            "3/3 [==============================] - 0s 23ms/step - loss: 0.0180 - val_loss: 0.0175\n",
            "Epoch 16/80\n",
            "3/3 [==============================] - 0s 21ms/step - loss: 0.0186 - val_loss: 0.0185\n",
            "Epoch 17/80\n",
            "3/3 [==============================] - 0s 29ms/step - loss: 0.0171 - val_loss: 0.0176\n",
            "Epoch 18/80\n",
            "3/3 [==============================] - 0s 33ms/step - loss: 0.0164 - val_loss: 0.0168\n",
            "Epoch 19/80\n",
            "3/3 [==============================] - 0s 20ms/step - loss: 0.0166 - val_loss: 0.0158\n",
            "Epoch 20/80\n",
            "3/3 [==============================] - 0s 19ms/step - loss: 0.0160 - val_loss: 0.0164\n",
            "Epoch 21/80\n",
            "3/3 [==============================] - 0s 27ms/step - loss: 0.0145 - val_loss: 0.0172\n",
            "Epoch 22/80\n",
            "3/3 [==============================] - 0s 23ms/step - loss: 0.0152 - val_loss: 0.0164\n",
            "Epoch 23/80\n",
            "3/3 [==============================] - 0s 21ms/step - loss: 0.0146 - val_loss: 0.0157\n",
            "Epoch 24/80\n",
            "3/3 [==============================] - 0s 21ms/step - loss: 0.0145 - val_loss: 0.0150\n",
            "Epoch 25/80\n",
            "3/3 [==============================] - 0s 30ms/step - loss: 0.0136 - val_loss: 0.0155\n",
            "Epoch 26/80\n",
            "3/3 [==============================] - 0s 21ms/step - loss: 0.0138 - val_loss: 0.0165\n",
            "Epoch 27/80\n",
            "3/3 [==============================] - 0s 20ms/step - loss: 0.0140 - val_loss: 0.0154\n",
            "Epoch 28/80\n",
            "3/3 [==============================] - 0s 22ms/step - loss: 0.0126 - val_loss: 0.0153\n",
            "Epoch 29/80\n",
            "3/3 [==============================] - 0s 19ms/step - loss: 0.0132 - val_loss: 0.0156\n",
            "Epoch 30/80\n",
            "3/3 [==============================] - 0s 18ms/step - loss: 0.0126 - val_loss: 0.0160\n",
            "Epoch 31/80\n",
            "3/3 [==============================] - 0s 22ms/step - loss: 0.0130 - val_loss: 0.0155\n",
            "Epoch 32/80\n",
            "3/3 [==============================] - 0s 19ms/step - loss: 0.0134 - val_loss: 0.0154\n",
            "Epoch 33/80\n",
            "3/3 [==============================] - 0s 21ms/step - loss: 0.0137 - val_loss: 0.0155\n",
            "Epoch 34/80\n",
            "3/3 [==============================] - 0s 27ms/step - loss: 0.0151 - val_loss: 0.0173\n",
            "Epoch 35/80\n",
            "3/3 [==============================] - 0s 20ms/step - loss: 0.0131 - val_loss: 0.0150\n",
            "Epoch 36/80\n",
            "3/3 [==============================] - 0s 18ms/step - loss: 0.0119 - val_loss: 0.0148\n",
            "Epoch 37/80\n",
            "3/3 [==============================] - 0s 26ms/step - loss: 0.0115 - val_loss: 0.0147\n",
            "Epoch 38/80\n",
            "3/3 [==============================] - 0s 27ms/step - loss: 0.0113 - val_loss: 0.0149\n",
            "Epoch 39/80\n",
            "3/3 [==============================] - 0s 20ms/step - loss: 0.0120 - val_loss: 0.0157\n",
            "Epoch 40/80\n",
            "3/3 [==============================] - 0s 37ms/step - loss: 0.0117 - val_loss: 0.0148\n",
            "Epoch 41/80\n",
            "3/3 [==============================] - 0s 19ms/step - loss: 0.0123 - val_loss: 0.0157\n",
            "Epoch 42/80\n",
            "3/3 [==============================] - 0s 21ms/step - loss: 0.0127 - val_loss: 0.0152\n",
            "Epoch 43/80\n",
            "3/3 [==============================] - 0s 20ms/step - loss: 0.0125 - val_loss: 0.0148\n",
            "Epoch 44/80\n",
            "3/3 [==============================] - 0s 18ms/step - loss: 0.0115 - val_loss: 0.0153\n",
            "Epoch 45/80\n",
            "3/3 [==============================] - 0s 19ms/step - loss: 0.0130 - val_loss: 0.0149\n",
            "Epoch 46/80\n",
            "3/3 [==============================] - 0s 17ms/step - loss: 0.0113 - val_loss: 0.0157\n",
            "Epoch 47/80\n",
            "3/3 [==============================] - 0s 18ms/step - loss: 0.0114 - val_loss: 0.0152\n",
            "Epoch 48/80\n",
            "3/3 [==============================] - 0s 18ms/step - loss: 0.0113 - val_loss: 0.0152\n",
            "Epoch 49/80\n",
            "3/3 [==============================] - 0s 21ms/step - loss: 0.0141 - val_loss: 0.0151\n",
            "Epoch 50/80\n",
            "3/3 [==============================] - 0s 27ms/step - loss: 0.0126 - val_loss: 0.0156\n",
            "Epoch 51/80\n",
            "3/3 [==============================] - 0s 29ms/step - loss: 0.0121 - val_loss: 0.0153\n",
            "Epoch 52/80\n",
            "3/3 [==============================] - 0s 21ms/step - loss: 0.0117 - val_loss: 0.0153\n",
            "Epoch 53/80\n",
            "3/3 [==============================] - 0s 20ms/step - loss: 0.0104 - val_loss: 0.0161\n",
            "Epoch 54/80\n",
            "3/3 [==============================] - 0s 32ms/step - loss: 0.0121 - val_loss: 0.0155\n",
            "Epoch 55/80\n",
            "3/3 [==============================] - 0s 19ms/step - loss: 0.0105 - val_loss: 0.0171\n",
            "Epoch 56/80\n",
            "3/3 [==============================] - 0s 29ms/step - loss: 0.0111 - val_loss: 0.0161\n",
            "Epoch 57/80\n",
            "3/3 [==============================] - 0s 26ms/step - loss: 0.0109 - val_loss: 0.0158\n",
            "Epoch 58/80\n",
            "3/3 [==============================] - 0s 19ms/step - loss: 0.0104 - val_loss: 0.0155\n",
            "Epoch 59/80\n",
            "3/3 [==============================] - 0s 25ms/step - loss: 0.0109 - val_loss: 0.0154\n",
            "Epoch 60/80\n",
            "3/3 [==============================] - 0s 19ms/step - loss: 0.0104 - val_loss: 0.0160\n",
            "Epoch 61/80\n",
            "3/3 [==============================] - 0s 20ms/step - loss: 0.0114 - val_loss: 0.0164\n",
            "Epoch 62/80\n",
            "3/3 [==============================] - 0s 23ms/step - loss: 0.0134 - val_loss: 0.0204\n",
            "Epoch 63/80\n",
            "3/3 [==============================] - 0s 26ms/step - loss: 0.0123 - val_loss: 0.0210\n",
            "Epoch 64/80\n",
            "3/3 [==============================] - 0s 21ms/step - loss: 0.0122 - val_loss: 0.0182\n",
            "Epoch 65/80\n",
            "3/3 [==============================] - 0s 19ms/step - loss: 0.0123 - val_loss: 0.0179\n",
            "Epoch 66/80\n",
            "3/3 [==============================] - 0s 20ms/step - loss: 0.0110 - val_loss: 0.0167\n",
            "Epoch 67/80\n",
            "3/3 [==============================] - 0s 20ms/step - loss: 0.0123 - val_loss: 0.0157\n",
            "Epoch 68/80\n",
            "3/3 [==============================] - 0s 21ms/step - loss: 0.0134 - val_loss: 0.0165\n",
            "Epoch 69/80\n",
            "3/3 [==============================] - 0s 18ms/step - loss: 0.0123 - val_loss: 0.0160\n",
            "Epoch 70/80\n",
            "3/3 [==============================] - 0s 30ms/step - loss: 0.0111 - val_loss: 0.0165\n",
            "Epoch 71/80\n",
            "3/3 [==============================] - 0s 18ms/step - loss: 0.0111 - val_loss: 0.0159\n",
            "Epoch 72/80\n",
            "3/3 [==============================] - 0s 20ms/step - loss: 0.0137 - val_loss: 0.0183\n",
            "Epoch 73/80\n",
            "3/3 [==============================] - 0s 19ms/step - loss: 0.0120 - val_loss: 0.0167\n",
            "Epoch 74/80\n",
            "3/3 [==============================] - 0s 25ms/step - loss: 0.0126 - val_loss: 0.0162\n",
            "Epoch 75/80\n",
            "3/3 [==============================] - 0s 24ms/step - loss: 0.0105 - val_loss: 0.0158\n",
            "Epoch 76/80\n",
            "3/3 [==============================] - 0s 30ms/step - loss: 0.0103 - val_loss: 0.0159\n",
            "Epoch 77/80\n",
            "3/3 [==============================] - 0s 28ms/step - loss: 0.0113 - val_loss: 0.0169\n",
            "Epoch 78/80\n",
            "3/3 [==============================] - 0s 28ms/step - loss: 0.0115 - val_loss: 0.0165\n",
            "Epoch 79/80\n",
            "3/3 [==============================] - 0s 27ms/step - loss: 0.0108 - val_loss: 0.0165\n",
            "Epoch 80/80\n",
            "3/3 [==============================] - 0s 19ms/step - loss: 0.0114 - val_loss: 0.0161\n"
          ]
        }
      ]
    },
    {
      "cell_type": "markdown",
      "source": [
        "Plot Loss and accuracy"
      ],
      "metadata": {
        "id": "4RY9fq2vQayW"
      }
    },
    {
      "cell_type": "code",
      "source": [
        "#Plot loss per iteration\n",
        "import matplotlib.pyplot as plt\n",
        "plt.plot(r.history['loss'], label='loss')\n",
        "plt.plot(r.history['val_loss'], label='val_loss')\n",
        "plt.legend()"
      ],
      "metadata": {
        "colab": {
          "base_uri": "https://localhost:8080/",
          "height": 283
        },
        "id": "dV75BDG5Qcil",
        "outputId": "24c97206-b468-4091-b935-75babc15a5c2"
      },
      "execution_count": 48,
      "outputs": [
        {
          "output_type": "execute_result",
          "data": {
            "text/plain": [
              "<matplotlib.legend.Legend at 0x7f22d21ecac0>"
            ]
          },
          "metadata": {},
          "execution_count": 48
        },
        {
          "output_type": "display_data",
          "data": {
            "text/plain": [
              "<Figure size 432x288 with 1 Axes>"
            ],
            "image/png": "[encoded data removed]"
          },
          "metadata": {
            "needs_background": "light"
          }
        }
      ]
    },
    {
      "cell_type": "code",
      "source": [
        "#Wrong forecast using true target\n",
        "\n",
        "validation_target = Y[-N//2:]\n",
        "validation_prerdiction = []\n",
        "\n",
        "#index of list validation input\n",
        "i = -N //2\n",
        "\n",
        "while len(validation_prerdiction) < len(validation_target):\n",
        "  p = model.predict(X[i].reshape(1, -1))[0,0] # 1x1 array -> scalar\n",
        "  i += 1\n",
        "\n",
        "  #update the prediction list\n",
        "  validation_prerdiction.append(p)\n",
        "  "
      ],
      "metadata": {
        "colab": {
          "base_uri": "https://localhost:8080/"
        },
        "id": "BPtlzfAkPoxu",
        "outputId": "79f7ae38-a0d3-4ace-bbdc-c0fbbdf6f854"
      },
      "execution_count": 49,
      "outputs": [
        {
          "output_type": "stream",
          "name": "stdout",
          "text": [
            "1/1 [==============================] - 0s 115ms/step\n",
            "1/1 [==============================] - 0s 36ms/step\n",
            "1/1 [==============================] - 0s 32ms/step\n",
            "1/1 [==============================] - 0s 37ms/step\n",
            "1/1 [==============================] - 0s 39ms/step\n",
            "1/1 [==============================] - 0s 34ms/step\n",
            "1/1 [==============================] - 0s 32ms/step\n",
            "1/1 [==============================] - 0s 46ms/step\n",
            "1/1 [==============================] - 0s 49ms/step\n",
            "1/1 [==============================] - 0s 31ms/step\n",
            "1/1 [==============================] - 0s 22ms/step\n",
            "1/1 [==============================] - 0s 22ms/step\n",
            "1/1 [==============================] - 0s 22ms/step\n",
            "1/1 [==============================] - 0s 25ms/step\n",
            "1/1 [==============================] - 0s 26ms/step\n",
            "1/1 [==============================] - 0s 24ms/step\n",
            "1/1 [==============================] - 0s 23ms/step\n",
            "1/1 [==============================] - 0s 24ms/step\n",
            "1/1 [==============================] - 0s 29ms/step\n",
            "1/1 [==============================] - 0s 24ms/step\n",
            "1/1 [==============================] - 0s 28ms/step\n",
            "1/1 [==============================] - 0s 22ms/step\n",
            "1/1 [==============================] - 0s 30ms/step\n",
            "1/1 [==============================] - 0s 23ms/step\n",
            "1/1 [==============================] - 0s 26ms/step\n",
            "1/1 [==============================] - 0s 24ms/step\n",
            "1/1 [==============================] - 0s 27ms/step\n",
            "1/1 [==============================] - 0s 23ms/step\n",
            "1/1 [==============================] - 0s 24ms/step\n",
            "1/1 [==============================] - 0s 24ms/step\n",
            "1/1 [==============================] - 0s 25ms/step\n",
            "1/1 [==============================] - 0s 24ms/step\n",
            "1/1 [==============================] - 0s 29ms/step\n",
            "1/1 [==============================] - 0s 22ms/step\n",
            "1/1 [==============================] - 0s 29ms/step\n",
            "1/1 [==============================] - 0s 22ms/step\n",
            "1/1 [==============================] - 0s 24ms/step\n",
            "1/1 [==============================] - 0s 25ms/step\n",
            "1/1 [==============================] - 0s 24ms/step\n",
            "1/1 [==============================] - 0s 24ms/step\n",
            "1/1 [==============================] - 0s 26ms/step\n",
            "1/1 [==============================] - 0s 26ms/step\n",
            "1/1 [==============================] - 0s 22ms/step\n",
            "1/1 [==============================] - 0s 22ms/step\n",
            "1/1 [==============================] - 0s 24ms/step\n",
            "1/1 [==============================] - 0s 23ms/step\n",
            "1/1 [==============================] - 0s 22ms/step\n",
            "1/1 [==============================] - 0s 22ms/step\n",
            "1/1 [==============================] - 0s 33ms/step\n",
            "1/1 [==============================] - 0s 26ms/step\n",
            "1/1 [==============================] - 0s 25ms/step\n",
            "1/1 [==============================] - 0s 22ms/step\n",
            "1/1 [==============================] - 0s 24ms/step\n",
            "1/1 [==============================] - 0s 22ms/step\n",
            "1/1 [==============================] - 0s 26ms/step\n",
            "1/1 [==============================] - 0s 24ms/step\n",
            "1/1 [==============================] - 0s 25ms/step\n",
            "1/1 [==============================] - 0s 25ms/step\n",
            "1/1 [==============================] - 0s 24ms/step\n",
            "1/1 [==============================] - 0s 23ms/step\n",
            "1/1 [==============================] - 0s 24ms/step\n",
            "1/1 [==============================] - 0s 27ms/step\n",
            "1/1 [==============================] - 0s 26ms/step\n",
            "1/1 [==============================] - 0s 23ms/step\n",
            "1/1 [==============================] - 0s 23ms/step\n",
            "1/1 [==============================] - 0s 22ms/step\n",
            "1/1 [==============================] - 0s 25ms/step\n",
            "1/1 [==============================] - 0s 25ms/step\n",
            "1/1 [==============================] - 0s 24ms/step\n",
            "1/1 [==============================] - 0s 31ms/step\n",
            "1/1 [==============================] - 0s 24ms/step\n",
            "1/1 [==============================] - 0s 28ms/step\n",
            "1/1 [==============================] - 0s 23ms/step\n",
            "1/1 [==============================] - 0s 28ms/step\n",
            "1/1 [==============================] - 0s 24ms/step\n",
            "1/1 [==============================] - 0s 30ms/step\n",
            "1/1 [==============================] - 0s 23ms/step\n",
            "1/1 [==============================] - 0s 24ms/step\n",
            "1/1 [==============================] - 0s 23ms/step\n",
            "1/1 [==============================] - 0s 25ms/step\n",
            "1/1 [==============================] - 0s 26ms/step\n",
            "1/1 [==============================] - 0s 27ms/step\n",
            "1/1 [==============================] - 0s 22ms/step\n",
            "1/1 [==============================] - 0s 27ms/step\n",
            "1/1 [==============================] - 0s 28ms/step\n",
            "1/1 [==============================] - 0s 26ms/step\n",
            "1/1 [==============================] - 0s 24ms/step\n",
            "1/1 [==============================] - 0s 31ms/step\n",
            "1/1 [==============================] - 0s 31ms/step\n",
            "1/1 [==============================] - 0s 32ms/step\n",
            "1/1 [==============================] - 0s 26ms/step\n",
            "1/1 [==============================] - 0s 23ms/step\n",
            "1/1 [==============================] - 0s 26ms/step\n",
            "1/1 [==============================] - 0s 31ms/step\n",
            "1/1 [==============================] - 0s 24ms/step\n"
          ]
        }
      ]
    },
    {
      "cell_type": "code",
      "source": [
        "plt.plot(validation_target, label='forecast target')\n",
        "plt.plot(validation_prerdiction, label='forecast prediction')\n",
        "plt.legend()"
      ],
      "metadata": {
        "colab": {
          "base_uri": "https://localhost:8080/",
          "height": 283
        },
        "id": "i43kjV19S4sR",
        "outputId": "414a682a-d78a-44de-c18d-d48a953835d0"
      },
      "execution_count": 50,
      "outputs": [
        {
          "output_type": "execute_result",
          "data": {
            "text/plain": [
              "<matplotlib.legend.Legend at 0x7f22d21c2b20>"
            ]
          },
          "metadata": {},
          "execution_count": 50
        },
        {
          "output_type": "display_data",
          "data": {
            "text/plain": [
              "<Figure size 432x288 with 1 Axes>"
            ],
            "image/png": "[encoded data removed]"
          },
          "metadata": {
            "needs_background": "light"
          }
        }
      ]
    },
    {
      "cell_type": "markdown",
      "source": [
        "Correct Way"
      ],
      "metadata": {
        "id": "RbFLjNglWno9"
      }
    },
    {
      "cell_type": "code",
      "source": [
        "#Forecast future values (use only self-predictions for making future predictions)\n",
        "validation_target = Y[-N//2:]\n",
        "validation_predictions = []\n",
        "\n",
        "#last train input\n",
        "last_x = X[-N // 2] #1 -D array of length T\n",
        "\n",
        "while len(validation_predictions) < len(validation_target):\n",
        "  p = model.predict(last_x.reshape(1, -1))[0,0] #1x1 array -> scalar\n",
        "\n",
        "  #Update the prediciton list\n",
        "  validation_predictions.append(p)\n",
        "\n",
        "  #make the new input\n",
        "  last_x = np.roll(last_x, -1)\n",
        "  last_x[-1] = p\n",
        "\n"
      ],
      "metadata": {
        "colab": {
          "base_uri": "https://localhost:8080/"
        },
        "id": "g2J0_ArGTS9Q",
        "outputId": "37e4c2ba-5243-4a9f-d81d-87e5da5088f3"
      },
      "execution_count": 51,
      "outputs": [
        {
          "output_type": "stream",
          "name": "stdout",
          "text": [
            "1/1 [==============================] - 0s 25ms/step\n",
            "1/1 [==============================] - 0s 27ms/step\n",
            "1/1 [==============================] - 0s 24ms/step\n",
            "1/1 [==============================] - 0s 24ms/step\n",
            "1/1 [==============================] - 0s 23ms/step\n",
            "1/1 [==============================] - 0s 25ms/step\n",
            "1/1 [==============================] - 0s 22ms/step\n",
            "1/1 [==============================] - 0s 29ms/step\n",
            "1/1 [==============================] - 0s 31ms/step\n",
            "1/1 [==============================] - 0s 32ms/step\n",
            "1/1 [==============================] - 0s 22ms/step\n",
            "1/1 [==============================] - 0s 28ms/step\n",
            "1/1 [==============================] - 0s 27ms/step\n",
            "1/1 [==============================] - 0s 25ms/step\n",
            "1/1 [==============================] - 0s 23ms/step\n",
            "1/1 [==============================] - 0s 24ms/step\n",
            "1/1 [==============================] - 0s 28ms/step\n",
            "1/1 [==============================] - 0s 30ms/step\n",
            "1/1 [==============================] - 0s 24ms/step\n",
            "1/1 [==============================] - 0s 25ms/step\n",
            "1/1 [==============================] - 0s 25ms/step\n",
            "1/1 [==============================] - 0s 26ms/step\n",
            "1/1 [==============================] - 0s 30ms/step\n",
            "1/1 [==============================] - 0s 27ms/step\n",
            "1/1 [==============================] - 0s 27ms/step\n",
            "1/1 [==============================] - 0s 25ms/step\n",
            "1/1 [==============================] - 0s 26ms/step\n",
            "1/1 [==============================] - 0s 24ms/step\n",
            "1/1 [==============================] - 0s 25ms/step\n",
            "1/1 [==============================] - 0s 22ms/step\n",
            "1/1 [==============================] - 0s 28ms/step\n",
            "1/1 [==============================] - 0s 25ms/step\n",
            "1/1 [==============================] - 0s 28ms/step\n",
            "1/1 [==============================] - 0s 28ms/step\n",
            "1/1 [==============================] - 0s 25ms/step\n",
            "1/1 [==============================] - 0s 33ms/step\n",
            "1/1 [==============================] - 0s 22ms/step\n",
            "1/1 [==============================] - 0s 29ms/step\n",
            "1/1 [==============================] - 0s 29ms/step\n",
            "1/1 [==============================] - 0s 31ms/step\n",
            "1/1 [==============================] - 0s 26ms/step\n",
            "1/1 [==============================] - 0s 40ms/step\n",
            "1/1 [==============================] - 0s 23ms/step\n",
            "1/1 [==============================] - 0s 23ms/step\n",
            "1/1 [==============================] - 0s 22ms/step\n",
            "1/1 [==============================] - 0s 28ms/step\n",
            "1/1 [==============================] - 0s 22ms/step\n",
            "1/1 [==============================] - 0s 27ms/step\n",
            "1/1 [==============================] - 0s 27ms/step\n",
            "1/1 [==============================] - 0s 27ms/step\n",
            "1/1 [==============================] - 0s 27ms/step\n",
            "1/1 [==============================] - 0s 23ms/step\n",
            "1/1 [==============================] - 0s 22ms/step\n",
            "1/1 [==============================] - 0s 23ms/step\n",
            "1/1 [==============================] - 0s 23ms/step\n",
            "1/1 [==============================] - 0s 24ms/step\n",
            "1/1 [==============================] - 0s 23ms/step\n",
            "1/1 [==============================] - 0s 24ms/step\n",
            "1/1 [==============================] - 0s 22ms/step\n",
            "1/1 [==============================] - 0s 26ms/step\n",
            "1/1 [==============================] - 0s 22ms/step\n",
            "1/1 [==============================] - 0s 25ms/step\n",
            "1/1 [==============================] - 0s 24ms/step\n",
            "1/1 [==============================] - 0s 23ms/step\n",
            "1/1 [==============================] - 0s 25ms/step\n",
            "1/1 [==============================] - 0s 26ms/step\n",
            "1/1 [==============================] - 0s 26ms/step\n",
            "1/1 [==============================] - 0s 28ms/step\n",
            "1/1 [==============================] - 0s 22ms/step\n",
            "1/1 [==============================] - 0s 22ms/step\n",
            "1/1 [==============================] - 0s 28ms/step\n",
            "1/1 [==============================] - 0s 27ms/step\n",
            "1/1 [==============================] - 0s 32ms/step\n",
            "1/1 [==============================] - 0s 25ms/step\n",
            "1/1 [==============================] - 0s 27ms/step\n",
            "1/1 [==============================] - 0s 24ms/step\n",
            "1/1 [==============================] - 0s 24ms/step\n",
            "1/1 [==============================] - 0s 23ms/step\n",
            "1/1 [==============================] - 0s 24ms/step\n",
            "1/1 [==============================] - 0s 24ms/step\n",
            "1/1 [==============================] - 0s 25ms/step\n",
            "1/1 [==============================] - 0s 25ms/step\n",
            "1/1 [==============================] - 0s 24ms/step\n",
            "1/1 [==============================] - 0s 30ms/step\n",
            "1/1 [==============================] - 0s 24ms/step\n",
            "1/1 [==============================] - 0s 23ms/step\n",
            "1/1 [==============================] - 0s 25ms/step\n",
            "1/1 [==============================] - 0s 27ms/step\n",
            "1/1 [==============================] - 0s 32ms/step\n",
            "1/1 [==============================] - 0s 33ms/step\n",
            "1/1 [==============================] - 0s 23ms/step\n",
            "1/1 [==============================] - 0s 23ms/step\n",
            "1/1 [==============================] - 0s 25ms/step\n",
            "1/1 [==============================] - 0s 25ms/step\n",
            "1/1 [==============================] - 0s 24ms/step\n"
          ]
        }
      ]
    },
    {
      "cell_type": "code",
      "source": [
        "plt.plot(validation_target, label='forecast target')\n",
        "plt.plot(validation_predictions, label='forecast prediction')\n",
        "plt.legend()"
      ],
      "metadata": {
        "colab": {
          "base_uri": "https://localhost:8080/",
          "height": 283
        },
        "id": "iQikto3uXgjM",
        "outputId": "a4d0f2da-1f88-4247-f514-05185233b864"
      },
      "execution_count": 52,
      "outputs": [
        {
          "output_type": "execute_result",
          "data": {
            "text/plain": [
              "<matplotlib.legend.Legend at 0x7f22cd5b3fa0>"
            ]
          },
          "metadata": {},
          "execution_count": 52
        },
        {
          "output_type": "display_data",
          "data": {
            "text/plain": [
              "<Figure size 432x288 with 1 Axes>"
            ],
            "image/png": "[encoded data removed]"
          },
          "metadata": {
            "needs_background": "light"
          }
        }
      ]
    },
    {
      "cell_type": "code",
      "source": [],
      "metadata": {
        "id": "d1A5t6NnYEdK"
      },
      "execution_count": null,
      "outputs": []
    }
  ]
}